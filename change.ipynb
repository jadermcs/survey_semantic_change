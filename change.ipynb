{
 "cells": [
  {
   "cell_type": "code",
   "execution_count": 16,
   "id": "006036cd-f5a8-47c8-91b8-8f983eacbdd9",
   "metadata": {},
   "outputs": [],
   "source": [
    "import json\n",
    "import pandas as pd\n",
    "import matplotlib.pyplot as plt\n",
    "\n",
    "plt.rcParams[\"text.usetex\"] = True\n",
    "plt.rcParams[\"font.family\"] = \"Helvetica\""
   ]
  },
  {
   "cell_type": "code",
   "execution_count": 2,
   "id": "035b77b9-8a34-4ea6-a325-be9282aeac4b",
   "metadata": {},
   "outputs": [],
   "source": [
    "import numpy as np\n",
    "from nltk.corpus import wordnet as wn  # Assuming you're using WordNet"
   ]
  },
  {
   "cell_type": "code",
   "execution_count": 3,
   "id": "e672a810-6fb1-4891-9ef8-99889140feef",
   "metadata": {},
   "outputs": [],
   "source": [
    "from nltk.corpus import sentiwordnet"
   ]
  },
  {
   "cell_type": "code",
   "execution_count": 4,
   "id": "e343f988-10b0-4086-9e47-f3de7b7b881c",
   "metadata": {},
   "outputs": [],
   "source": [
    "figurative = {}\n",
    "with open(\"chainnet_metaphor.json\") as fin:\n",
    "    data = json.load(fin)\n",
    "    for item in data[\"content\"]:\n",
    "        figurative[item[\"to_sense\"]] = 1\n",
    "\n",
    "with open(\"chainnet_metonymy.json\") as fin:\n",
    "    data = json.load(fin)\n",
    "    for item in data[\"content\"]:\n",
    "        figurative[item[\"to_sense\"]] = 1\n",
    "    "
   ]
  },
  {
   "cell_type": "code",
   "execution_count": 5,
   "id": "1a4a9f75-af66-4eba-9eea-00c70c6d185c",
   "metadata": {},
   "outputs": [],
   "source": [
    "def get_pos_score(key):\n",
    "    return sentiwordnet.senti_synset(key).pos_score()"
   ]
  },
  {
   "cell_type": "code",
   "execution_count": 6,
   "id": "afccc0b1-aff6-4c32-a57f-591ec04f05c0",
   "metadata": {},
   "outputs": [],
   "source": [
    "def convert(sense_key):\n",
    "    try:\n",
    "        synset = wn.lemma_from_key(sense_key.split(\";\")[0]).synset()\n",
    "        return synset.name()\n",
    "    except:\n",
    "        return None\n",
    "\n",
    "def convert_to_lemma_key(synset_str):\n",
    "    # Split the input string (e.g., \"nice.a.01\")\n",
    "    lemma, pos, sense_num = synset_str.rsplit('.', 2)\n",
    "    \n",
    "    # Convert POS to WordNet format\n",
    "    pos_map = {'n': 'n', 'v': 'v', 'a': 'a', 's': 's', 'r': 'r'}\n",
    "    wn_pos = pos_map.get(pos, None)\n",
    "    \n",
    "    if wn_pos is None:\n",
    "        raise ValueError(\"Invalid POS tag\")\n",
    "\n",
    "    # Convert sense number to integer and retrieve synset\n",
    "    synset = wn.synsets(lemma, pos=wn_pos)[int(sense_num) - 1]\n",
    "    \n",
    "    # Convert to WordNet lemma key format\n",
    "    lemma_name = synset.lemmas()[0].key()\n",
    "    \n",
    "    return lemma_name"
   ]
  },
  {
   "cell_type": "code",
   "execution_count": 7,
   "id": "ba2650f1-8c11-4e7f-8ae6-b16f03ffb453",
   "metadata": {},
   "outputs": [
    {
     "data": {
      "text/plain": [
       "'airplane.n.01'"
      ]
     },
     "execution_count": 7,
     "metadata": {},
     "output_type": "execute_result"
    }
   ],
   "source": [
    "convert(\"plane%1:06:01::\")"
   ]
  },
  {
   "cell_type": "code",
   "execution_count": 8,
   "id": "c90ba6e5-f72b-4b00-9c98-7d3863f0c8ca",
   "metadata": {},
   "outputs": [],
   "source": [
    "semcor = pd.read_json(\"semcor.json.gz\")\n",
    "semcor[\"key\"] = semcor[\"synsets\"].apply(lambda x: x[0])\n",
    "semcor[\"sense_key\"] = semcor[\"key\"].apply(convert_to_lemma_key)\n",
    "masc = pd.read_json(\"masc.json.gz\")\n",
    "masc[\"lemma\"] = masc[\"sense_key\"].apply(lambda x: x.split(\"%\")[0])\n",
    "masc[\"key\"] = masc[\"sense_key\"].apply(convert)"
   ]
  },
  {
   "cell_type": "code",
   "execution_count": 17,
   "id": "455aca86-1e4e-442e-81f6-e2d17b983a1b",
   "metadata": {},
   "outputs": [
    {
     "name": "stdout",
     "output_type": "stream",
     "text": [
      "• plane.n.03: a level of existence or development\n",
      "• airplane.n.01: an aircraft that has a fixed wing and is powered by propellers or jets\n",
      "• plane.n.02: (mathematics) an unbounded two-dimensional shape\n",
      "• plane.v.01: cut or remove with or as if with a plane\n",
      "• flat.s.01: having a surface without slope, tilt in which no part is higher or lower than another\n"
     ]
    },
    {
     "data": {
      "image/png": "[encoded data removed]",
      "text/plain": [
       "<Figure size 1000x500 with 2 Axes>"
      ]
     },
     "metadata": {},
     "output_type": "display_data"
    }
   ],
   "source": [
    "WORD = \"plane\"\n",
    "\n",
    "fig, axis = plt.subplots(1, 2, figsize=(10, 5), sharey=True, sharex=False)\n",
    "\n",
    "# Get unique sense keys from both datasets to align x-axis\n",
    "all_keys = set(semcor[semcor.lemma == WORD][\"key\"]) | set(masc[masc.lemma == WORD][\"key\"])\n",
    "\n",
    "# SEMCOR Plot\n",
    "semcor_counts = semcor[semcor.lemma == WORD][\"key\"].value_counts(normalize=True)\n",
    "semcor_counts = semcor_counts.reindex(all_keys, fill_value=0)  # Ensure same keys\n",
    "cmap = plt.get_cmap(\"Set2\", len(semcor_counts))\n",
    "colors = [cmap(i) for i in range(len(semcor_counts))]\n",
    "\n",
    "ax = semcor_counts.plot(kind=\"bar\", color=colors, ax=axis[0], width=0.5)  # Set bar width\n",
    "ax.spines['top'].set_visible(False)\n",
    "ax.spines['right'].set_visible(False)\n",
    "ax.spines['left'].set_visible(False)\n",
    "ax.grid(axis='y', linestyle='--', alpha=0.7)\n",
    "ax.set_xlabel(\"SEMCOR\")\n",
    "ax.set_ylabel(\"Proportion\")\n",
    "ax.set_xticklabels(semcor_counts.index, rotation=45, ha=\"right\")\n",
    "\n",
    "# MASC Plot\n",
    "masc_counts = masc[masc.lemma == WORD][\"key\"].value_counts(normalize=True)\n",
    "masc_counts = masc_counts.reindex(all_keys, fill_value=0)  # Ensure same keys\n",
    "cmap = plt.get_cmap(\"Set2\", len(masc_counts))\n",
    "colors = [cmap(i) for i in range(len(masc_counts))]\n",
    "\n",
    "ax = masc_counts.plot(kind=\"bar\", color=colors, ax=axis[1], width=0.5)  # Set bar width\n",
    "ax.spines['top'].set_visible(False)\n",
    "ax.spines['right'].set_visible(False)\n",
    "ax.spines['left'].set_visible(False)\n",
    "ax.grid(axis='y', linestyle='--', alpha=0.7)\n",
    "ax.set_xlabel(\"MASC\")\n",
    "ax.set_ylabel(\"Proportion\")\n",
    "ax.set_xticklabels(masc_counts.index, rotation=45, ha=\"right\")\n",
    "\n",
    "for i, key in enumerate(all_keys):\n",
    "    try:\n",
    "        definition = wn.synset(key).definition()\n",
    "    except:\n",
    "        definition = \"Definition not found\"\n",
    "    print(f\"• {key}: {definition}\")\n",
    "\n",
    "# Add title\n",
    "fig.suptitle(f\"Distribution of Sense Keys for '{WORD}'\", fontsize=14)\n",
    "\n",
    "plt.tight_layout()  # Adjust layout to prevent overlap\n",
    "plt.savefig(f\"{WORD}.pdf\")"
   ]
  },
  {
   "cell_type": "code",
   "execution_count": 10,
   "id": "bf722d12-70d5-46dd-a0f9-8d4b303bba8d",
   "metadata": {},
   "outputs": [
    {
     "name": "stdout",
     "output_type": "stream",
     "text": [
      "             key  proportion  score  figurative\n",
      "0     plane.n.03    0.046512  0.000        True\n",
      "1  airplane.n.01    0.488372  0.000       False\n",
      "2     plane.n.02    0.372093  0.000       False\n",
      "3     plane.v.01    0.046512  0.000       False\n",
      "4      flat.s.01    0.046512  0.375       False\n",
      "             key  proportion  score  figurative\n",
      "0     plane.n.03    0.000000  0.000        True\n",
      "1  airplane.n.01    0.909091  0.000       False\n",
      "2     plane.n.02    0.090909  0.000       False\n",
      "3     plane.v.01    0.000000  0.000       False\n",
      "4      flat.s.01    0.000000  0.375       False\n"
     ]
    }
   ],
   "source": [
    "semcor_counts = semcor_counts.reset_index()\n",
    "masc_counts = masc_counts.reset_index()\n",
    "\n",
    "semcor_counts[\"score\"] = semcor_counts[\"key\"].apply(get_pos_score)\n",
    "masc_counts[\"score\"] = masc_counts[\"key\"].apply(get_pos_score)\n",
    "\n",
    "semcor_counts[\"figurative\"] = semcor_counts[\"key\"].apply(lambda x: convert_to_lemma_key(x) in figurative)\n",
    "masc_counts[\"figurative\"] = masc_counts[\"key\"].apply(lambda x: convert_to_lemma_key(x) in figurative)\n",
    "print(semcor_counts)\n",
    "print(masc_counts)"
   ]
  },
  {
   "cell_type": "code",
   "execution_count": 11,
   "id": "940425cd-5a3c-4e57-959e-640f20521efc",
   "metadata": {},
   "outputs": [
    {
     "name": "stdout",
     "output_type": "stream",
     "text": [
      "5\n",
      "2\n"
     ]
    }
   ],
   "source": [
    "print((semcor_counts[\"proportion\"] > 0).sum())\n",
    "print((masc_counts[\"proportion\"] > 0).sum())"
   ]
  },
  {
   "cell_type": "code",
   "execution_count": 18,
   "id": "9fbd87ba-e173-4a3f-9da8-b55ec827799d",
   "metadata": {},
   "outputs": [
    {
     "name": "stdout",
     "output_type": "stream",
     "text": [
      "• heart.n.03: the courage to carry on\n",
      "• heart.n.02: the hollow muscular organ located behind the sternum and between the lungs; its rhythmic contractions move the blood through the body\n",
      "• heart.n.01: the locus of feelings and intuitions\n",
      "• kernel.n.03: the choicest or most essential or most vital part of some idea or experience\n",
      "• center.n.01: an area that is approximately central within some larger region\n",
      "• heart.n.10: a playing card in the major suit that has one or more red hearts on it\n"
     ]
    },
    {
     "data": {
      "image/png": "[encoded data removed]",
      "text/plain": [
       "<Figure size 1000x500 with 2 Axes>"
      ]
     },
     "metadata": {},
     "output_type": "display_data"
    }
   ],
   "source": [
    "WORD = \"heart\"\n",
    "\n",
    "fig, axis = plt.subplots(1, 2, figsize=(10, 5), sharey=True, sharex=False)\n",
    "\n",
    "# Get unique sense keys from both datasets to align x-axis\n",
    "all_keys = set(semcor[semcor.lemma == WORD][\"key\"]) | set(masc[masc.lemma == WORD][\"key\"])\n",
    "\n",
    "# SEMCOR Plot\n",
    "semcor_counts = semcor[semcor.lemma == WORD][\"key\"].value_counts(normalize=True)\n",
    "semcor_counts = semcor_counts.reindex(all_keys, fill_value=0)  # Ensure same keys\n",
    "cmap = plt.get_cmap(\"Set2\", len(semcor_counts))\n",
    "colors = [cmap(i) for i in range(len(semcor_counts))]\n",
    "\n",
    "ax = semcor_counts.plot(kind=\"bar\", color=colors, ax=axis[0], width=0.5)  # Set bar width\n",
    "ax.spines['top'].set_visible(False)\n",
    "ax.spines['right'].set_visible(False)\n",
    "ax.spines['left'].set_visible(False)\n",
    "ax.grid(axis='y', linestyle='--', alpha=0.7)\n",
    "ax.set_xlabel(\"SEMCOR\")\n",
    "ax.set_ylabel(\"Proportion\")\n",
    "ax.set_xticklabels(semcor_counts.index, rotation=45, ha=\"right\")\n",
    "\n",
    "# MASC Plot\n",
    "masc_counts = masc[masc.lemma == WORD][\"key\"].value_counts(normalize=True)\n",
    "masc_counts = masc_counts.reindex(all_keys, fill_value=0)  # Ensure same keys\n",
    "cmap = plt.get_cmap(\"Set2\", len(masc_counts))\n",
    "colors = [cmap(i) for i in range(len(masc_counts))]\n",
    "\n",
    "ax = masc_counts.plot(kind=\"bar\", color=colors, ax=axis[1], width=0.5)  # Set bar width\n",
    "ax.spines['top'].set_visible(False)\n",
    "ax.spines['right'].set_visible(False)\n",
    "ax.spines['left'].set_visible(False)\n",
    "ax.grid(axis='y', linestyle='--', alpha=0.7)\n",
    "ax.set_xlabel(\"MASC\")\n",
    "ax.set_ylabel(\"Proportion\")\n",
    "ax.set_xticklabels(masc_counts.index, rotation=45, ha=\"right\")\n",
    "\n",
    "# Add text descriptions\n",
    "for i, key in enumerate(all_keys):\n",
    "    try:\n",
    "        definition = wn.synset(key).definition()\n",
    "    except:\n",
    "        definition = \"Definition not found\"\n",
    "    print(f\"• {key}: {definition}\")\n",
    "\n",
    "# Add title\n",
    "fig.suptitle(f\"Distribution of Sense Keys for '{WORD}'\", fontsize=14)\n",
    "\n",
    "plt.tight_layout()  # Adjust layout to prevent overlap\n",
    "plt.savefig(f\"{WORD}.pdf\")"
   ]
  },
  {
   "cell_type": "code",
   "execution_count": 13,
   "id": "d0aa1be2-58a7-48fd-9ba9-6e02ed3dff6d",
   "metadata": {},
   "outputs": [
    {
     "name": "stdout",
     "output_type": "stream",
     "text": [
      "           key  proportion  score  figurative\n",
      "0   heart.n.03    0.121212   0.25        True\n",
      "1   heart.n.02    0.348485   0.00       False\n",
      "2   heart.n.01    0.439394   0.00        True\n",
      "3  kernel.n.03    0.030303   0.25        True\n",
      "4  center.n.01    0.060606   0.00       False\n",
      "5   heart.n.10    0.000000   0.00        True\n",
      "           key  proportion  score  figurative\n",
      "0   heart.n.03    0.901408   0.25        True\n",
      "1   heart.n.02    0.000000   0.00       False\n",
      "2   heart.n.01    0.000000   0.00        True\n",
      "3  kernel.n.03    0.070423   0.25        True\n",
      "4  center.n.01    0.000000   0.00       False\n",
      "5   heart.n.10    0.028169   0.00        True\n"
     ]
    }
   ],
   "source": [
    "semcor_counts = semcor_counts.reset_index()\n",
    "masc_counts = masc_counts.reset_index()\n",
    "\n",
    "semcor_counts[\"score\"] = semcor_counts[\"key\"].apply(get_pos_score)\n",
    "masc_counts[\"score\"] = masc_counts[\"key\"].apply(get_pos_score)\n",
    "\n",
    "semcor_counts[\"figurative\"] = semcor_counts[\"key\"].apply(lambda x: convert_to_lemma_key(x) in figurative)\n",
    "masc_counts[\"figurative\"] = masc_counts[\"key\"].apply(lambda x: convert_to_lemma_key(x) in figurative)\n",
    "print(semcor_counts)\n",
    "print(masc_counts)"
   ]
  },
  {
   "cell_type": "code",
   "execution_count": 14,
   "id": "68149d3b-04fd-4f38-b495-a85a46ab4f08",
   "metadata": {},
   "outputs": [
    {
     "name": "stdout",
     "output_type": "stream",
     "text": [
      "0.03787878787878788\n",
      "0.24295774647887325\n"
     ]
    }
   ],
   "source": [
    "print((semcor_counts[\"proportion\"] * semcor_counts[\"score\"]).sum())\n",
    "print((masc_counts[\"proportion\"] * masc_counts[\"score\"]).sum())"
   ]
  },
  {
   "cell_type": "code",
   "execution_count": 15,
   "id": "71188677-ffd9-4f3a-bfab-4ae6374981a9",
   "metadata": {},
   "outputs": [
    {
     "name": "stdout",
     "output_type": "stream",
     "text": [
      "0.5909090909090908\n",
      "1.0\n"
     ]
    }
   ],
   "source": [
    "print((semcor_counts[\"proportion\"] * semcor_counts[\"figurative\"]).sum())\n",
    "print((masc_counts[\"proportion\"] * masc_counts[\"figurative\"]).sum())"
   ]
  }
 ],
 "metadata": {
  "kernelspec": {
   "display_name": "Python 3 (ipykernel)",
   "language": "python",
   "name": "python3"
  },
  "language_info": {
   "codemirror_mode": {
    "name": "ipython",
    "version": 3
   },
   "file_extension": ".py",
   "mimetype": "text/x-python",
   "name": "python",
   "nbconvert_exporter": "python",
   "pygments_lexer": "ipython3",
   "version": "3.10.12"
  }
 },
 "nbformat": 4,
 "nbformat_minor": 5
}
